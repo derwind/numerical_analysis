{
 "cells": [
  {
   "cell_type": "markdown",
   "id": "f131d5ea-a59f-44d1-b92c-b80db81bdc4c",
   "metadata": {},
   "source": [
    "# Heat equation\n",
    "\n",
    "c.f. https://teamcoil.sp.u-tokai.ac.jp/lectures/EL1/Poisson/index.html  \n",
    "https://www.research.kobe-u.ac.jp/csi-viz/members/kageyama/lectures/H22_FY2010_latter/2nd_Sim_School/index.ja.html\n",
    "\n",
    "$$\n",
    "\\begin{align}\n",
    "\\frac{\\partial \\phi}{\\partial t} = c \\Delta \\phi\n",
    "\\end{align}\n",
    "$$"
   ]
  },
  {
   "cell_type": "code",
   "execution_count": null,
   "id": "b37017e2-c964-4324-b4a5-1d7e25993d39",
   "metadata": {},
   "outputs": [],
   "source": [
    "import numpy as np\n",
    "from PIL import Image\n",
    "import matplotlib.pyplot as plt\n",
    "import matplotlib.animation as animation\n",
    "# https://qiita.com/fhiyo/items/0ea94b0de6cd5c76d67a\n",
    "from IPython.display import HTML\n",
    "import pickle\n",
    "import numba"
   ]
  },
  {
   "cell_type": "code",
   "execution_count": null,
   "id": "2f7a67cb-971d-425d-be1e-cc26d58eb287",
   "metadata": {},
   "outputs": [],
   "source": [
    "N = 100\n",
    "X = 1.0\n",
    "T = 100\n",
    "thermal_conductivity = 0.1\n",
    "time_step = 5\n",
    "center = np.array((N // 2, N // 2))\n",
    "delta = X / N\n",
    "rho = np.zeros((N, N))"
   ]
  },
  {
   "cell_type": "code",
   "execution_count": null,
   "id": "460ff2cd-95f7-4e2f-826d-4f2395cbcf62",
   "metadata": {},
   "outputs": [],
   "source": [
    "# initial value\n",
    "for i in range(N):\n",
    "    for j in range(N):\n",
    "        if np.linalg.norm(center - (i, j))*delta < 0.05:\n",
    "            rho[i, j] = 10"
   ]
  },
  {
   "cell_type": "code",
   "execution_count": null,
   "id": "67c0f8a4-f5b2-4a70-91de-99b28e90883c",
   "metadata": {},
   "outputs": [],
   "source": [
    "@numba.jit\n",
    "def calc_variation_at(i, j, phi: np.ndarray):\n",
    "    # discrete Laplacian * thermal_conductivity\n",
    "    return (phi[i+1, j]+phi[i-1, j]+phi[i, j+1]+phi[i, j-1]-4*phi[i, j]) * thermal_conductivity  # * delta_t / (delta**2)\n",
    "\n",
    "@numba.jit\n",
    "def calt_phi(prev_phi):\n",
    "    phi = np.zeros((N, N), dtype=numba.float32)\n",
    "    for i in range(1, N-1):\n",
    "        for j in range(1, N-1):\n",
    "            phi[i, j] = prev_phi[i, j] + calc_variation_at(i, j, prev_phi)\n",
    "\n",
    "    return phi"
   ]
  },
  {
   "cell_type": "code",
   "execution_count": null,
   "id": "8dbe04eb-5f28-49fc-8d76-b1e5e66e7b34",
   "metadata": {},
   "outputs": [],
   "source": [
    "%%time\n",
    "\n",
    "solutions = [rho]\n",
    "phi = rho\n",
    "\n",
    "for t in range(1, T):\n",
    "    for _ in range(time_step):\n",
    "        phi = calt_phi(phi)\n",
    "    solutions.append(phi)"
   ]
  },
  {
   "cell_type": "markdown",
   "id": "8d155885-0d99-4e5b-9e87-40c4f72df491",
   "metadata": {},
   "source": [
    "## Visualization of the solution of heat equation"
   ]
  },
  {
   "cell_type": "code",
   "execution_count": null,
   "id": "825efaa4-0964-44a3-9755-256b7c3e4e47",
   "metadata": {},
   "outputs": [],
   "source": [
    "phi = solutions[0]\n",
    "vmin = vmin=np.min(phi)\n",
    "print(np.min(phi), np.max(phi))\n",
    "vmax=np.max(phi)\n",
    "\n",
    "fig, ax = plt.subplots()\n",
    "xs, ys = np.meshgrid(np.arange(N), np.arange(N))\n",
    "zs = phi[xs, ys]\n",
    "xs_, ys_ = np.meshgrid(np.arange(N)*delta, np.arange(N)*delta)\n",
    "im = ax.pcolormesh(xs_, ys_, zs, vmin=vmin, vmax=vmax, cmap='viridis') # or jet\n",
    "ax.contour(xs_, ys_, zs, linewidths=1, alpha=0.5)\n",
    "fig.colorbar(im, ax=ax)\n",
    "ax.set_aspect('equal')\n",
    "plt.xlabel('x')\n",
    "plt.ylabel('y')\n",
    "plt.show()"
   ]
  },
  {
   "cell_type": "code",
   "execution_count": null,
   "id": "100b5252-d23d-4608-94a0-9b18b99c0239",
   "metadata": {},
   "outputs": [],
   "source": [
    "phi = solutions[5]\n",
    "print(np.min(phi), np.max(phi))\n",
    "fig, ax = plt.subplots()\n",
    "xs, ys = np.meshgrid(np.arange(N), np.arange(N))\n",
    "zs = phi[xs, ys]\n",
    "xs_, ys_ = np.meshgrid(np.arange(N)*delta, np.arange(N)*delta)\n",
    "im = ax.pcolormesh(xs_, ys_, zs, vmin=vmin, vmax=vmax, cmap='viridis') # or jet\n",
    "ax.contour(xs_, ys_, zs, linewidths=1, alpha=0.5)\n",
    "fig.colorbar(im, ax=ax)\n",
    "ax.set_aspect('equal')\n",
    "plt.xlabel('x')\n",
    "plt.ylabel('y')\n",
    "plt.show()"
   ]
  },
  {
   "cell_type": "markdown",
   "id": "07a3dcbf-567f-46e7-b1a7-422a0ed21c54",
   "metadata": {},
   "source": [
    "## 2D animation"
   ]
  },
  {
   "cell_type": "code",
   "execution_count": null,
   "id": "329608d6-992c-418c-8118-5a39144747e9",
   "metadata": {},
   "outputs": [],
   "source": [
    "ims = []\n",
    "\n",
    "fig = plt.figure()\n",
    "\n",
    "for sol in solutions:\n",
    "    xs, ys = np.meshgrid(np.arange(N), np.arange(N))\n",
    "    zs = sol[xs, ys]\n",
    "    xs_, ys_ = np.meshgrid(np.arange(N)*delta, np.arange(N)*delta)\n",
    "    im = plt.imshow(zs, vmin=vmin, vmax=vmax, cmap='viridis')\n",
    "    ims.append([im])"
   ]
  },
  {
   "cell_type": "code",
   "execution_count": null,
   "id": "91f65f8f-685a-4414-9b59-d2aae27d7ec4",
   "metadata": {},
   "outputs": [],
   "source": [
    "ani = animation.ArtistAnimation(fig, ims, interval=100)\n",
    "ani.save(\"heat_2d.gif\", writer=\"imagemagick\")\n",
    "HTML(ani.to_jshtml())"
   ]
  },
  {
   "cell_type": "markdown",
   "id": "46a0c1cb-bf67-4efa-8b8a-179ab7cd27aa",
   "metadata": {},
   "source": [
    "## 3D animation"
   ]
  },
  {
   "cell_type": "code",
   "execution_count": null,
   "id": "95f3bf76-f944-4840-acef-7ef5c89fa790",
   "metadata": {},
   "outputs": [],
   "source": [
    "%%time\n",
    "\n",
    "ims = []\n",
    "\n",
    "fig = plt.figure()\n",
    "ax = fig.add_subplot(111, projection='3d')\n",
    "\n",
    "for sol in solutions:\n",
    "    xs, ys = np.meshgrid(np.arange(N), np.arange(N))\n",
    "    zs = sol[xs, ys]\n",
    "    xs_, ys_ = np.meshgrid(np.arange(N)*delta, np.arange(N)*delta)\n",
    "    im = ax.plot_surface(xs_, ys_, zs, vmin=vmin, cmap='viridis')\n",
    "    plt.xlabel('x')\n",
    "    plt.ylabel('y')\n",
    "    ims.append([im])"
   ]
  },
  {
   "cell_type": "code",
   "execution_count": null,
   "id": "f755f515-467f-40f0-9795-4122a0a427a0",
   "metadata": {},
   "outputs": [],
   "source": [
    "ani = animation.ArtistAnimation(fig, ims, interval=100)\n",
    "ani.save(\"heat_3d.gif\", writer=\"imagemagick\")\n",
    "HTML(ani.to_jshtml())"
   ]
  }
 ],
 "metadata": {
  "kernelspec": {
   "display_name": "Python 3",
   "language": "python",
   "name": "python3"
  },
  "language_info": {
   "codemirror_mode": {
    "name": "ipython",
    "version": 3
   },
   "file_extension": ".py",
   "mimetype": "text/x-python",
   "name": "python",
   "nbconvert_exporter": "python",
   "pygments_lexer": "ipython3",
   "version": "3.9.4"
  }
 },
 "nbformat": 4,
 "nbformat_minor": 5
}
