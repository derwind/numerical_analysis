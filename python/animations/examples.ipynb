{
 "cells": [
  {
   "cell_type": "markdown",
   "id": "0f48dd35-b519-4ab6-9007-fd25357ef02f",
   "metadata": {},
   "source": [
    "# 1D animation\n",
    "\n",
    "https://qiita.com/msrks/items/e264872efa062c7d6955"
   ]
  },
  {
   "cell_type": "code",
   "execution_count": null,
   "id": "6ecb29fe-2966-4a13-9497-ab9d8f89af01",
   "metadata": {},
   "outputs": [],
   "source": [
    "import numpy as np\n",
    "import matplotlib.pyplot as plt\n",
    "import matplotlib.animation as animation\n",
    "from IPython.display import HTML\n",
    "\n",
    "fig = plt.figure()\n",
    "x = np.arange(0, 10, 0.1)\n",
    "\n",
    "ims = []\n",
    "for a in range(50):\n",
    "    y = np.sin(x - a)\n",
    "    line, = plt.plot(x, y, \"r\")\n",
    "    ims.append([line])\n",
    "\n",
    "# https://qiita.com/fhiyo/items/0ea94b0de6cd5c76d67a\n",
    "ani = animation.ArtistAnimation(fig, ims)\n",
    "#ani.save('anim.gif', writer=\"imagemagick\")\n",
    "#ani.save('anim.mp4', writer=\"ffmpeg\")\n",
    "HTML(ani.to_jshtml())"
   ]
  },
  {
   "cell_type": "markdown",
   "id": "238ae17d-4bf4-43b3-a128-dbfb0b4c912b",
   "metadata": {},
   "source": [
    "# 2D animation\n",
    "\n",
    "https://qiita.com/msrks/items/e264872efa062c7d6955"
   ]
  },
  {
   "cell_type": "code",
   "execution_count": null,
   "id": "a02f4f31-360f-4fbd-9502-0109edb6a017",
   "metadata": {},
   "outputs": [],
   "source": [
    "fig = plt.figure()\n",
    "\n",
    "def f(x, y):\n",
    "    return np.sin(x) + np.cos(y)\n",
    "\n",
    "x = np.linspace(0, 2 * np.pi, 120)\n",
    "y = np.linspace(0, 2 * np.pi, 100).reshape(-1, 1)\n",
    "ims = []\n",
    "\n",
    "for i in range(60):\n",
    "    x += np.pi / 15.\n",
    "    y += np.pi / 20.\n",
    "    im = plt.imshow(f(x, y), animated=True)\n",
    "    ims.append([im])\n",
    "\n",
    "ani = animation.ArtistAnimation(fig, ims, interval=50, blit=True,\n",
    "                                repeat_delay=1000)\n",
    "\n",
    "HTML(ani.to_jshtml())"
   ]
  },
  {
   "cell_type": "markdown",
   "id": "329655dd-a490-4c7e-8964-06a1a0010ccd",
   "metadata": {},
   "source": [
    "# 3D animation\n",
    "\n",
    "https://sabopy.com/py/matplotlib_3d_26/"
   ]
  },
  {
   "cell_type": "code",
   "execution_count": null,
   "id": "4c514f9d-1a5e-48e6-b9bf-dcd2a330a8ef",
   "metadata": {},
   "outputs": [],
   "source": [
    "def generate(X, Y, phi):\n",
    "    R = 1 - np.sqrt(X**2 + Y**2)\n",
    "    return np.cos(2 * np.pi * X + phi) * R\n",
    "\n",
    "fig = plt.figure(dpi=150)\n",
    "ax = fig.add_subplot(111, projection='3d')\n",
    "ax.set_zlim(-1, 1)\n",
    "\n",
    "xs = np.linspace(-1, 1, 50)\n",
    "ys = np.linspace(-1, 1, 50)\n",
    "X, Y = np.meshgrid(xs, ys)\n",
    "\n",
    "#animation func\n",
    "phi = np.linspace(0, 45/np.pi, 50)\n",
    "ims = []\n",
    "for i in range(50):\n",
    "    at_z = phi[i]\n",
    "    Z = generate(X,Y,at_z)\n",
    "    im = ax.plot_wireframe(X, Y, Z, color='darkgreen',rcount = 50,ccount = 50,lw=.5)\n",
    "    ims.append([im])\n",
    "\n",
    "ani = animation.ArtistAnimation(fig, ims, interval=50, blit=True,\n",
    "                                repeat_delay=1000)\n",
    "\n",
    "HTML(ani.to_jshtml())"
   ]
  }
 ],
 "metadata": {
  "kernelspec": {
   "display_name": "Python 3",
   "language": "python",
   "name": "python3"
  },
  "language_info": {
   "codemirror_mode": {
    "name": "ipython",
    "version": 3
   },
   "file_extension": ".py",
   "mimetype": "text/x-python",
   "name": "python",
   "nbconvert_exporter": "python",
   "pygments_lexer": "ipython3",
   "version": "3.9.4"
  }
 },
 "nbformat": 4,
 "nbformat_minor": 5
}
