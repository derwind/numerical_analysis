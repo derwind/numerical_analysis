{
 "cells": [
  {
   "cell_type": "markdown",
   "id": "f131d5ea-a59f-44d1-b92c-b80db81bdc4c",
   "metadata": {},
   "source": [
    "# Poisson equation\n",
    "\n",
    "c.f. https://teamcoil.sp.u-tokai.ac.jp/lectures/EL1/Poisson/index.html"
   ]
  },
  {
   "cell_type": "code",
   "execution_count": null,
   "id": "b37017e2-c964-4324-b4a5-1d7e25993d39",
   "metadata": {},
   "outputs": [],
   "source": [
    "import numpy as np\n",
    "import matplotlib.pyplot as plt\n",
    "import functools\n",
    "import pickle\n",
    "import numba"
   ]
  },
  {
   "cell_type": "code",
   "execution_count": null,
   "id": "2f7a67cb-971d-425d-be1e-cc26d58eb287",
   "metadata": {},
   "outputs": [],
   "source": [
    "N = 100\n",
    "X = 1.0\n",
    "e0 = 8.85e-12\n",
    "center = np.array((N // 2, N // 2))\n",
    "delta = X / N\n",
    "Conv = 1.0e-6\n",
    "rho = np.zeros((N, N))"
   ]
  },
  {
   "cell_type": "code",
   "execution_count": null,
   "id": "460ff2cd-95f7-4e2f-826d-4f2395cbcf62",
   "metadata": {},
   "outputs": [],
   "source": [
    "for i in range(N):\n",
    "    for j in range(N):\n",
    "        if np.linalg.norm(center - (i, j))*delta < 0.05:\n",
    "            rho[i, j] = 1.0e-8"
   ]
  },
  {
   "cell_type": "code",
   "execution_count": null,
   "id": "67c0f8a4-f5b2-4a70-91de-99b28e90883c",
   "metadata": {},
   "outputs": [],
   "source": [
    "@numba.jit\n",
    "def calc_phi_at(i, j, phi: np.ndarray, rho: np.ndarray, e0):\n",
    "    return 0.25*(rho[i, j]*(delta**2)/e0+phi[i+1, j]+phi[i-1, j]+phi[i, j+1]+phi[i, j-1])\n",
    "\n",
    "@numba.jit\n",
    "def main_loop():\n",
    "    phi = np.zeros((N, N), dtype=numba.float32)\n",
    "    MaxPhi_list = []\n",
    "    loop = 0\n",
    "    MaxPhi = 1.0e-10\n",
    "    while True:\n",
    "        MaxErr = CurErr = 0\n",
    "        for i in range(1, N-1):\n",
    "            for j in range(1, N-1):\n",
    "                Prev_phi = phi[i, j]\n",
    "                phi[i, j] = calc_phi_at(i, j, phi, rho, e0)\n",
    "\n",
    "                if MaxPhi < abs(phi[i, j]):\n",
    "                    MaxPhi = phi[i, j]\n",
    "\n",
    "                CurErr = abs(phi[i, j] - Prev_phi) / MaxPhi\n",
    "\n",
    "                if MaxErr < CurErr:\n",
    "                    MaxErr = CurErr\n",
    "        MaxPhi_list.append(MaxErr)\n",
    "        loop += 1\n",
    "        if MaxErr <= Conv:\n",
    "            return phi, MaxPhi_list"
   ]
  },
  {
   "cell_type": "code",
   "execution_count": null,
   "id": "8dbe04eb-5f28-49fc-8d76-b1e5e66e7b34",
   "metadata": {},
   "outputs": [],
   "source": [
    "%%time\n",
    "\n",
    "phi, MaxPhi_list = main_loop()"
   ]
  },
  {
   "cell_type": "code",
   "execution_count": null,
   "id": "7af75c80-c30e-4e00-be04-865335a1ebb1",
   "metadata": {},
   "outputs": [],
   "source": [
    "with open('rho.pkl', 'wb') as fout:\n",
    "    pickle.dump(rho, fout)\n",
    "with open('phi.pkl', 'wb') as fout:\n",
    "    pickle.dump(phi, fout)"
   ]
  },
  {
   "cell_type": "code",
   "execution_count": null,
   "id": "f55658e6-9713-423b-901c-230f45c6b063",
   "metadata": {},
   "outputs": [],
   "source": [
    "fig, ax = plt.subplots()\n",
    "ax.set_yscale('log')\n",
    "plt.plot(range(len(MaxPhi_list)), MaxPhi_list)\n",
    "plt.show()"
   ]
  },
  {
   "cell_type": "code",
   "execution_count": null,
   "id": "825efaa4-0964-44a3-9755-256b7c3e4e47",
   "metadata": {},
   "outputs": [],
   "source": [
    "fig, ax = plt.subplots()\n",
    "xs, ys = np.meshgrid(np.arange(N), np.arange(N))\n",
    "zs = phi[xs, ys]\n",
    "xs, ys = np.meshgrid(np.arange(N)*delta, np.arange(N)*delta)\n",
    "im = ax.pcolormesh(xs, ys, zs, vmin=np.min(phi), vmax=np.max(phi), cmap='rainbow') # or jet\n",
    "fig.colorbar(im, ax=ax)\n",
    "ax.set_aspect('equal')\n",
    "plt.show()"
   ]
  }
 ],
 "metadata": {
  "kernelspec": {
   "display_name": "Python 3 (ipykernel)",
   "language": "python",
   "name": "python3"
  },
  "language_info": {
   "codemirror_mode": {
    "name": "ipython",
    "version": 3
   },
   "file_extension": ".py",
   "mimetype": "text/x-python",
   "name": "python",
   "nbconvert_exporter": "python",
   "pygments_lexer": "ipython3",
   "version": "3.9.13"
  }
 },
 "nbformat": 4,
 "nbformat_minor": 5
}
