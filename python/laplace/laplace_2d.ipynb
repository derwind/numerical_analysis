{
 "cells": [
  {
   "cell_type": "markdown",
   "id": "f131d5ea-a59f-44d1-b92c-b80db81bdc4c",
   "metadata": {},
   "source": [
    "# Laplace equation"
   ]
  },
  {
   "cell_type": "code",
   "execution_count": null,
   "id": "b37017e2-c964-4324-b4a5-1d7e25993d39",
   "metadata": {},
   "outputs": [],
   "source": [
    "import numpy as np\n",
    "import matplotlib.pyplot as plt\n",
    "import pickle\n",
    "import numba"
   ]
  },
  {
   "cell_type": "code",
   "execution_count": null,
   "id": "2f7a67cb-971d-425d-be1e-cc26d58eb287",
   "metadata": {},
   "outputs": [],
   "source": [
    "N = 100\n",
    "X = 2.0\n",
    "thres = 0.05\n",
    "center = np.array((N // 2, N // 2))\n",
    "delta = X / N\n",
    "Conv = 1.0e-6"
   ]
  },
  {
   "cell_type": "code",
   "execution_count": null,
   "id": "67c0f8a4-f5b2-4a70-91de-99b28e90883c",
   "metadata": {},
   "outputs": [],
   "source": [
    "@numba.jit\n",
    "def calc_phi_at(i, j, phi: np.ndarray):\n",
    "    return 0.25*(phi[i+1, j]+phi[i-1, j]+phi[i, j+1]+phi[i, j-1])\n",
    "\n",
    "@numba.jit\n",
    "def init_phi(phi):\n",
    "    for i in range(N):\n",
    "        for j in range(N):\n",
    "            r2 = ((center[0] - i)**2 + (center[1] - j)**2)*(delta**2)\n",
    "            if (1 - thres)**2 <= r2 <= 1:\n",
    "                x_ = i - center[0]\n",
    "                y_ = j - center[1]\n",
    "                if x_ == 0:\n",
    "                    theta = np.pi/2 if y_ >= 0 else -np.pi/2\n",
    "                else:\n",
    "                    tan = y_ / x_\n",
    "                    if x_ >= 0:\n",
    "                        theta = np.arctan(tan)\n",
    "                    else:\n",
    "                        theta = np.arctan(tan) + np.pi\n",
    "                phi[i, j] = np.cos(3*theta)\n",
    "\n",
    "@numba.jit\n",
    "def main_loop():\n",
    "    #phi = np.zeros((N, N), dtype=numba.float32)\n",
    "    phi = np.zeros((N, N))\n",
    "    init_phi(phi)\n",
    "    MaxPhi_list = []\n",
    "    loop = 0\n",
    "    MaxPhi = 1.0e-10\n",
    "    while True:\n",
    "        if loop%1000 == 0:\n",
    "            print(loop, MaxPhi)        \n",
    "\n",
    "        MaxErr = CurErr = 0\n",
    "        for i in range(N):\n",
    "            for j in range(N):\n",
    "                r2 = ((center[0] - i)**2 + (center[1] - j)**2)*(delta**2)\n",
    "                if r2 >= (1 - thres)**2:\n",
    "                    continue\n",
    "                Prev_phi = phi[i, j]\n",
    "                phi[i, j] = calc_phi_at(i, j, phi)\n",
    "\n",
    "                if MaxPhi < abs(phi[i, j]):\n",
    "                    MaxPhi = phi[i, j]\n",
    "\n",
    "                CurErr = abs(phi[i, j] - Prev_phi) / MaxPhi\n",
    "\n",
    "                if MaxErr < CurErr:\n",
    "                    MaxErr = CurErr\n",
    "        MaxPhi_list.append(MaxErr)\n",
    "        loop += 1\n",
    "        if MaxErr <= Conv:\n",
    "            return phi, MaxPhi_list"
   ]
  },
  {
   "cell_type": "code",
   "execution_count": null,
   "id": "8dbe04eb-5f28-49fc-8d76-b1e5e66e7b34",
   "metadata": {},
   "outputs": [],
   "source": [
    "%%time\n",
    "\n",
    "phi, MaxPhi_list = main_loop()"
   ]
  },
  {
   "cell_type": "code",
   "execution_count": null,
   "id": "7af75c80-c30e-4e00-be04-865335a1ebb1",
   "metadata": {},
   "outputs": [],
   "source": [
    "with open('phi.pkl', 'wb') as fout:\n",
    "    pickle.dump(phi, fout)"
   ]
  },
  {
   "cell_type": "code",
   "execution_count": null,
   "id": "f55658e6-9713-423b-901c-230f45c6b063",
   "metadata": {},
   "outputs": [],
   "source": [
    "fig, ax = plt.subplots()\n",
    "ax.set_yscale('log')\n",
    "plt.plot(range(len(MaxPhi_list)), MaxPhi_list)\n",
    "plt.show()"
   ]
  },
  {
   "cell_type": "markdown",
   "id": "8d155885-0d99-4e5b-9e87-40c4f72df491",
   "metadata": {},
   "source": [
    "## Visualization of the electrostatic potential"
   ]
  },
  {
   "cell_type": "code",
   "execution_count": null,
   "id": "825efaa4-0964-44a3-9755-256b7c3e4e47",
   "metadata": {},
   "outputs": [],
   "source": [
    "fig, ax = plt.subplots()\n",
    "xs, ys = np.meshgrid(np.arange(N), np.arange(N))\n",
    "zs = phi[xs, ys]\n",
    "xs_, ys_ = np.meshgrid(np.arange(N)*delta, np.arange(N)*delta)\n",
    "im = ax.pcolormesh(xs_, ys_, zs, vmin=np.min(phi), vmax=np.max(phi), cmap='rainbow') # or jet\n",
    "fig.colorbar(im, ax=ax)\n",
    "ax.set_aspect('equal')\n",
    "plt.xlabel('x')\n",
    "plt.ylabel('y')\n",
    "plt.show()"
   ]
  },
  {
   "cell_type": "code",
   "execution_count": null,
   "id": "5fa23f71-e597-489d-aa3a-f7d563ac6276",
   "metadata": {},
   "outputs": [],
   "source": [
    "fig, ax = plt.subplots(subplot_kw={'projection': '3d'})\n",
    "ax.plot_surface(xs_, ys_, zs, vmin=zs.min(), cmap='rainbow')\n",
    "fig.colorbar(im, ax=ax)\n",
    "plt.xlabel('x')\n",
    "plt.ylabel('y')\n",
    "plt.show()"
   ]
  }
 ],
 "metadata": {
  "kernelspec": {
   "display_name": "Python 3 (ipykernel)",
   "language": "python",
   "name": "python3"
  },
  "language_info": {
   "codemirror_mode": {
    "name": "ipython",
    "version": 3
   },
   "file_extension": ".py",
   "mimetype": "text/x-python",
   "name": "python",
   "nbconvert_exporter": "python",
   "pygments_lexer": "ipython3",
   "version": "3.9.13"
  }
 },
 "nbformat": 4,
 "nbformat_minor": 5
}
